{
  "nbformat": 4,
  "nbformat_minor": 0,
  "metadata": {
    "colab": {
      "name": "Crystal Structure Classification.ipynb",
      "provenance": [],
      "authorship_tag": "ABX9TyM94Fn3HULSaLilTEZE6HEd",
      "include_colab_link": true
    },
    "kernelspec": {
      "name": "python3",
      "display_name": "Python 3"
    },
    "language_info": {
      "name": "python"
    }
  },
  "cells": [
    {
      "cell_type": "markdown",
      "metadata": {
        "id": "view-in-github",
        "colab_type": "text"
      },
      "source": [
        "<a href=\"https://colab.research.google.com/github/LarissaGao/Crystal-Structure-Classification/blob/main/Crystal_Structure_Classification.ipynb\" target=\"_parent\"><img src=\"https://colab.research.google.com/assets/colab-badge.svg\" alt=\"Open In Colab\"/></a>"
      ]
    },
    {
      "cell_type": "code",
      "execution_count": 8,
      "metadata": {
        "colab": {
          "base_uri": "https://localhost:8080/"
        },
        "id": "v6UWUBBP10nc",
        "outputId": "2d1f5555-4494-458e-8e53-4035d39477fb"
      },
      "outputs": [
        {
          "output_type": "stream",
          "name": "stdout",
          "text": [
            "Downloading...\n",
            "From: https://drive.google.com/uc?id=1D1J-QyUPDNlNt_ykoi-EBWOH9OM5QC61\n",
            "To: /content/Dockship.zip.zip\n",
            "\r  0% 0.00/172k [00:00<?, ?B/s]\r100% 172k/172k [00:00<00:00, 58.5MB/s]\n",
            "replace test_datasets.csv? [y]es, [n]o, [A]ll, [N]one, [r]ename: A\n"
          ]
        }
      ],
      "source": [
        "!gdown https://drive.google.com/uc?id=1D1J-QyUPDNlNt_ykoi-EBWOH9OM5QC61 \n",
        "!unzip -q /content/Dockship.zip"
      ]
    },
    {
      "cell_type": "code",
      "source": [
        "import pandas as pd \n",
        "import numpy as np \n",
        "from sklearn.model_selection import train_test_split \n",
        "from sklearn.preprocessing import LabelEncoder, StandardScaler \n",
        "from sklearn.tree import DecisionTreeClassifier \n",
        "import warnings \n",
        "warnings.filterwarnings('ignore')"
      ],
      "metadata": {
        "id": "kVkk3poR2kdF"
      },
      "execution_count": 9,
      "outputs": []
    },
    {
      "cell_type": "markdown",
      "source": [
        "Import Dataset"
      ],
      "metadata": {
        "id": "J98SMAJX3fmy"
      }
    },
    {
      "cell_type": "code",
      "source": [
        "df = pd.read_csv(\"/content/train_datasets.csv\")"
      ],
      "metadata": {
        "id": "myNCqSmM20Hh"
      },
      "execution_count": 10,
      "outputs": []
    },
    {
      "cell_type": "code",
      "source": [
        "df.head()"
      ],
      "metadata": {
        "colab": {
          "base_uri": "https://localhost:8080/",
          "height": 206
        },
        "id": "NhG3CkEP22j3",
        "outputId": "7a953d30-4092-45ba-85b2-015c4047acd4"
      },
      "execution_count": 11,
      "outputs": [
        {
          "output_type": "execute_result",
          "data": {
            "text/plain": [
              "   v(A)  v(B)  r(AXII)(Å)  r(AVI)(Å)  r(BVI)(Å)  EN(A)  EN(B)  l(A-O)(Å)  \\\n",
              "0     0     0        0.52       0.52       0.93   2.18   2.54   2.214685   \n",
              "1     0     0        1.03       0.86       0.60   1.27   1.90   2.500930   \n",
              "2     2     4        0.92       0.67       0.53   1.83   1.88   2.290644   \n",
              "3     1     5        1.64       1.38       0.62   0.82   2.36   3.025719   \n",
              "4     0     0        0.57       0.57       0.71   2.20   1.30   2.300109   \n",
              "\n",
              "   l(B-O)(Å)      ΔENR        tG         τ         μ Lowest distortion  \n",
              "0   2.313698 -1.728214  0.582680  0.000000  0.664286             cubic  \n",
              "1   0.000000 -1.768643  0.859135  0.000000  0.428571             cubic  \n",
              "2   1.930311 -1.468464  0.849994  4.936558  0.378571             cubic  \n",
              "3   1.745600 -1.974429  1.064161  3.977376  0.442857      orthorhombic  \n",
              "4   2.027412 -1.622357  0.660190  0.000000  0.507143             cubic  "
            ],
            "text/html": [
              "\n",
              "  <div id=\"df-ca3647f5-7a1e-4d06-a97a-d5f65e6de056\">\n",
              "    <div class=\"colab-df-container\">\n",
              "      <div>\n",
              "<style scoped>\n",
              "    .dataframe tbody tr th:only-of-type {\n",
              "        vertical-align: middle;\n",
              "    }\n",
              "\n",
              "    .dataframe tbody tr th {\n",
              "        vertical-align: top;\n",
              "    }\n",
              "\n",
              "    .dataframe thead th {\n",
              "        text-align: right;\n",
              "    }\n",
              "</style>\n",
              "<table border=\"1\" class=\"dataframe\">\n",
              "  <thead>\n",
              "    <tr style=\"text-align: right;\">\n",
              "      <th></th>\n",
              "      <th>v(A)</th>\n",
              "      <th>v(B)</th>\n",
              "      <th>r(AXII)(Å)</th>\n",
              "      <th>r(AVI)(Å)</th>\n",
              "      <th>r(BVI)(Å)</th>\n",
              "      <th>EN(A)</th>\n",
              "      <th>EN(B)</th>\n",
              "      <th>l(A-O)(Å)</th>\n",
              "      <th>l(B-O)(Å)</th>\n",
              "      <th>ΔENR</th>\n",
              "      <th>tG</th>\n",
              "      <th>τ</th>\n",
              "      <th>μ</th>\n",
              "      <th>Lowest distortion</th>\n",
              "    </tr>\n",
              "  </thead>\n",
              "  <tbody>\n",
              "    <tr>\n",
              "      <th>0</th>\n",
              "      <td>0</td>\n",
              "      <td>0</td>\n",
              "      <td>0.52</td>\n",
              "      <td>0.52</td>\n",
              "      <td>0.93</td>\n",
              "      <td>2.18</td>\n",
              "      <td>2.54</td>\n",
              "      <td>2.214685</td>\n",
              "      <td>2.313698</td>\n",
              "      <td>-1.728214</td>\n",
              "      <td>0.582680</td>\n",
              "      <td>0.000000</td>\n",
              "      <td>0.664286</td>\n",
              "      <td>cubic</td>\n",
              "    </tr>\n",
              "    <tr>\n",
              "      <th>1</th>\n",
              "      <td>0</td>\n",
              "      <td>0</td>\n",
              "      <td>1.03</td>\n",
              "      <td>0.86</td>\n",
              "      <td>0.60</td>\n",
              "      <td>1.27</td>\n",
              "      <td>1.90</td>\n",
              "      <td>2.500930</td>\n",
              "      <td>0.000000</td>\n",
              "      <td>-1.768643</td>\n",
              "      <td>0.859135</td>\n",
              "      <td>0.000000</td>\n",
              "      <td>0.428571</td>\n",
              "      <td>cubic</td>\n",
              "    </tr>\n",
              "    <tr>\n",
              "      <th>2</th>\n",
              "      <td>2</td>\n",
              "      <td>4</td>\n",
              "      <td>0.92</td>\n",
              "      <td>0.67</td>\n",
              "      <td>0.53</td>\n",
              "      <td>1.83</td>\n",
              "      <td>1.88</td>\n",
              "      <td>2.290644</td>\n",
              "      <td>1.930311</td>\n",
              "      <td>-1.468464</td>\n",
              "      <td>0.849994</td>\n",
              "      <td>4.936558</td>\n",
              "      <td>0.378571</td>\n",
              "      <td>cubic</td>\n",
              "    </tr>\n",
              "    <tr>\n",
              "      <th>3</th>\n",
              "      <td>1</td>\n",
              "      <td>5</td>\n",
              "      <td>1.64</td>\n",
              "      <td>1.38</td>\n",
              "      <td>0.62</td>\n",
              "      <td>0.82</td>\n",
              "      <td>2.36</td>\n",
              "      <td>3.025719</td>\n",
              "      <td>1.745600</td>\n",
              "      <td>-1.974429</td>\n",
              "      <td>1.064161</td>\n",
              "      <td>3.977376</td>\n",
              "      <td>0.442857</td>\n",
              "      <td>orthorhombic</td>\n",
              "    </tr>\n",
              "    <tr>\n",
              "      <th>4</th>\n",
              "      <td>0</td>\n",
              "      <td>0</td>\n",
              "      <td>0.57</td>\n",
              "      <td>0.57</td>\n",
              "      <td>0.71</td>\n",
              "      <td>2.20</td>\n",
              "      <td>1.30</td>\n",
              "      <td>2.300109</td>\n",
              "      <td>2.027412</td>\n",
              "      <td>-1.622357</td>\n",
              "      <td>0.660190</td>\n",
              "      <td>0.000000</td>\n",
              "      <td>0.507143</td>\n",
              "      <td>cubic</td>\n",
              "    </tr>\n",
              "  </tbody>\n",
              "</table>\n",
              "</div>\n",
              "      <button class=\"colab-df-convert\" onclick=\"convertToInteractive('df-ca3647f5-7a1e-4d06-a97a-d5f65e6de056')\"\n",
              "              title=\"Convert this dataframe to an interactive table.\"\n",
              "              style=\"display:none;\">\n",
              "        \n",
              "  <svg xmlns=\"http://www.w3.org/2000/svg\" height=\"24px\"viewBox=\"0 0 24 24\"\n",
              "       width=\"24px\">\n",
              "    <path d=\"M0 0h24v24H0V0z\" fill=\"none\"/>\n",
              "    <path d=\"M18.56 5.44l.94 2.06.94-2.06 2.06-.94-2.06-.94-.94-2.06-.94 2.06-2.06.94zm-11 1L8.5 8.5l.94-2.06 2.06-.94-2.06-.94L8.5 2.5l-.94 2.06-2.06.94zm10 10l.94 2.06.94-2.06 2.06-.94-2.06-.94-.94-2.06-.94 2.06-2.06.94z\"/><path d=\"M17.41 7.96l-1.37-1.37c-.4-.4-.92-.59-1.43-.59-.52 0-1.04.2-1.43.59L10.3 9.45l-7.72 7.72c-.78.78-.78 2.05 0 2.83L4 21.41c.39.39.9.59 1.41.59.51 0 1.02-.2 1.41-.59l7.78-7.78 2.81-2.81c.8-.78.8-2.07 0-2.86zM5.41 20L4 18.59l7.72-7.72 1.47 1.35L5.41 20z\"/>\n",
              "  </svg>\n",
              "      </button>\n",
              "      \n",
              "  <style>\n",
              "    .colab-df-container {\n",
              "      display:flex;\n",
              "      flex-wrap:wrap;\n",
              "      gap: 12px;\n",
              "    }\n",
              "\n",
              "    .colab-df-convert {\n",
              "      background-color: #E8F0FE;\n",
              "      border: none;\n",
              "      border-radius: 50%;\n",
              "      cursor: pointer;\n",
              "      display: none;\n",
              "      fill: #1967D2;\n",
              "      height: 32px;\n",
              "      padding: 0 0 0 0;\n",
              "      width: 32px;\n",
              "    }\n",
              "\n",
              "    .colab-df-convert:hover {\n",
              "      background-color: #E2EBFA;\n",
              "      box-shadow: 0px 1px 2px rgba(60, 64, 67, 0.3), 0px 1px 3px 1px rgba(60, 64, 67, 0.15);\n",
              "      fill: #174EA6;\n",
              "    }\n",
              "\n",
              "    [theme=dark] .colab-df-convert {\n",
              "      background-color: #3B4455;\n",
              "      fill: #D2E3FC;\n",
              "    }\n",
              "\n",
              "    [theme=dark] .colab-df-convert:hover {\n",
              "      background-color: #434B5C;\n",
              "      box-shadow: 0px 1px 3px 1px rgba(0, 0, 0, 0.15);\n",
              "      filter: drop-shadow(0px 1px 2px rgba(0, 0, 0, 0.3));\n",
              "      fill: #FFFFFF;\n",
              "    }\n",
              "  </style>\n",
              "\n",
              "      <script>\n",
              "        const buttonEl =\n",
              "          document.querySelector('#df-ca3647f5-7a1e-4d06-a97a-d5f65e6de056 button.colab-df-convert');\n",
              "        buttonEl.style.display =\n",
              "          google.colab.kernel.accessAllowed ? 'block' : 'none';\n",
              "\n",
              "        async function convertToInteractive(key) {\n",
              "          const element = document.querySelector('#df-ca3647f5-7a1e-4d06-a97a-d5f65e6de056');\n",
              "          const dataTable =\n",
              "            await google.colab.kernel.invokeFunction('convertToInteractive',\n",
              "                                                     [key], {});\n",
              "          if (!dataTable) return;\n",
              "\n",
              "          const docLinkHtml = 'Like what you see? Visit the ' +\n",
              "            '<a target=\"_blank\" href=https://colab.research.google.com/notebooks/data_table.ipynb>data table notebook</a>'\n",
              "            + ' to learn more about interactive tables.';\n",
              "          element.innerHTML = '';\n",
              "          dataTable['output_type'] = 'display_data';\n",
              "          await google.colab.output.renderOutput(dataTable, element);\n",
              "          const docLink = document.createElement('div');\n",
              "          docLink.innerHTML = docLinkHtml;\n",
              "          element.appendChild(docLink);\n",
              "        }\n",
              "      </script>\n",
              "    </div>\n",
              "  </div>\n",
              "  "
            ]
          },
          "metadata": {},
          "execution_count": 11
        }
      ]
    },
    {
      "cell_type": "code",
      "source": [
        "df.columns"
      ],
      "metadata": {
        "colab": {
          "base_uri": "https://localhost:8080/"
        },
        "id": "_r90KprE23hr",
        "outputId": "14818f6d-0801-46b3-9f36-6dd50847fe6b"
      },
      "execution_count": 12,
      "outputs": [
        {
          "output_type": "execute_result",
          "data": {
            "text/plain": [
              "Index(['v(A)', 'v(B)', 'r(AXII)(Å)', 'r(AVI)(Å)', 'r(BVI)(Å)', 'EN(A)',\n",
              "       'EN(B)', 'l(A-O)(Å)', 'l(B-O)(Å)', 'ΔENR', 'tG', 'τ', 'μ',\n",
              "       'Lowest distortion'],\n",
              "      dtype='object')"
            ]
          },
          "metadata": {},
          "execution_count": 12
        }
      ]
    },
    {
      "cell_type": "code",
      "source": [
        "df.shape"
      ],
      "metadata": {
        "colab": {
          "base_uri": "https://localhost:8080/"
        },
        "id": "Bb6Lj-y224mZ",
        "outputId": "627550d1-5d4c-4580-e438-164c382d2af1"
      },
      "execution_count": 13,
      "outputs": [
        {
          "output_type": "execute_result",
          "data": {
            "text/plain": [
              "(4165, 14)"
            ]
          },
          "metadata": {},
          "execution_count": 13
        }
      ]
    },
    {
      "cell_type": "code",
      "source": [
        "df.describe()"
      ],
      "metadata": {
        "colab": {
          "base_uri": "https://localhost:8080/",
          "height": 344
        },
        "id": "D-1XWSVm25zV",
        "outputId": "d7da08ae-c113-4c13-e820-74b6c2883bd9"
      },
      "execution_count": 14,
      "outputs": [
        {
          "output_type": "execute_result",
          "data": {
            "text/plain": [
              "              v(A)         v(B)  r(AXII)(Å)    r(AVI)(Å)    r(BVI)(Å)  \\\n",
              "count  4165.000000  4165.000000  4165.00000  4165.000000  4165.000000   \n",
              "mean      0.882353     1.385114     1.00557     0.841789     0.801999   \n",
              "std       1.672111     2.161707     0.33694     0.240549     0.234891   \n",
              "min      -1.000000    -1.000000     0.27000     0.270000     0.270000   \n",
              "25%      -1.000000    -1.000000     0.73000     0.670000     0.630000   \n",
              "50%       0.000000     0.000000     0.98000     0.860000     0.760000   \n",
              "75%       2.000000     3.000000     1.24000     0.960000     0.940000   \n",
              "max       5.000000     5.000000     1.88000     1.670000     1.670000   \n",
              "\n",
              "             EN(A)        EN(B)    l(A-O)(Å)    l(B-O)(Å)         ΔENR  \\\n",
              "count  4165.000000  4165.000000  4165.000000  4165.000000  4165.000000   \n",
              "mean      1.547309     1.599059     2.323011     2.017219    -2.186093   \n",
              "std       0.447277     0.442961     0.635699     0.555599     0.636470   \n",
              "min       0.790000     0.790000     0.000000     0.000000    -5.411536   \n",
              "25%       1.200000     1.220000     2.294004     1.956808    -2.570036   \n",
              "50%       1.500000     1.600000     2.422517     2.075849    -2.084214   \n",
              "75%       1.910000     1.960000     2.582926     2.284156    -1.734643   \n",
              "max       2.540000     2.540000     3.300176     3.009747    -0.601714   \n",
              "\n",
              "                tG            τ            μ  \n",
              "count  4165.000000  4165.000000  4165.000000  \n",
              "mean      0.781040     1.332182     0.572857  \n",
              "std       0.135816    20.804362     0.167778  \n",
              "min       0.384648  -480.827696     0.192857  \n",
              "25%       0.680809     0.000000     0.450000  \n",
              "50%       0.776944     0.000000     0.542857  \n",
              "75%       0.873123     3.892903     0.671429  \n",
              "max       1.321062   305.871348     1.192857  "
            ],
            "text/html": [
              "\n",
              "  <div id=\"df-43dbecbc-5b81-4c69-9281-b6de6d0a254d\">\n",
              "    <div class=\"colab-df-container\">\n",
              "      <div>\n",
              "<style scoped>\n",
              "    .dataframe tbody tr th:only-of-type {\n",
              "        vertical-align: middle;\n",
              "    }\n",
              "\n",
              "    .dataframe tbody tr th {\n",
              "        vertical-align: top;\n",
              "    }\n",
              "\n",
              "    .dataframe thead th {\n",
              "        text-align: right;\n",
              "    }\n",
              "</style>\n",
              "<table border=\"1\" class=\"dataframe\">\n",
              "  <thead>\n",
              "    <tr style=\"text-align: right;\">\n",
              "      <th></th>\n",
              "      <th>v(A)</th>\n",
              "      <th>v(B)</th>\n",
              "      <th>r(AXII)(Å)</th>\n",
              "      <th>r(AVI)(Å)</th>\n",
              "      <th>r(BVI)(Å)</th>\n",
              "      <th>EN(A)</th>\n",
              "      <th>EN(B)</th>\n",
              "      <th>l(A-O)(Å)</th>\n",
              "      <th>l(B-O)(Å)</th>\n",
              "      <th>ΔENR</th>\n",
              "      <th>tG</th>\n",
              "      <th>τ</th>\n",
              "      <th>μ</th>\n",
              "    </tr>\n",
              "  </thead>\n",
              "  <tbody>\n",
              "    <tr>\n",
              "      <th>count</th>\n",
              "      <td>4165.000000</td>\n",
              "      <td>4165.000000</td>\n",
              "      <td>4165.00000</td>\n",
              "      <td>4165.000000</td>\n",
              "      <td>4165.000000</td>\n",
              "      <td>4165.000000</td>\n",
              "      <td>4165.000000</td>\n",
              "      <td>4165.000000</td>\n",
              "      <td>4165.000000</td>\n",
              "      <td>4165.000000</td>\n",
              "      <td>4165.000000</td>\n",
              "      <td>4165.000000</td>\n",
              "      <td>4165.000000</td>\n",
              "    </tr>\n",
              "    <tr>\n",
              "      <th>mean</th>\n",
              "      <td>0.882353</td>\n",
              "      <td>1.385114</td>\n",
              "      <td>1.00557</td>\n",
              "      <td>0.841789</td>\n",
              "      <td>0.801999</td>\n",
              "      <td>1.547309</td>\n",
              "      <td>1.599059</td>\n",
              "      <td>2.323011</td>\n",
              "      <td>2.017219</td>\n",
              "      <td>-2.186093</td>\n",
              "      <td>0.781040</td>\n",
              "      <td>1.332182</td>\n",
              "      <td>0.572857</td>\n",
              "    </tr>\n",
              "    <tr>\n",
              "      <th>std</th>\n",
              "      <td>1.672111</td>\n",
              "      <td>2.161707</td>\n",
              "      <td>0.33694</td>\n",
              "      <td>0.240549</td>\n",
              "      <td>0.234891</td>\n",
              "      <td>0.447277</td>\n",
              "      <td>0.442961</td>\n",
              "      <td>0.635699</td>\n",
              "      <td>0.555599</td>\n",
              "      <td>0.636470</td>\n",
              "      <td>0.135816</td>\n",
              "      <td>20.804362</td>\n",
              "      <td>0.167778</td>\n",
              "    </tr>\n",
              "    <tr>\n",
              "      <th>min</th>\n",
              "      <td>-1.000000</td>\n",
              "      <td>-1.000000</td>\n",
              "      <td>0.27000</td>\n",
              "      <td>0.270000</td>\n",
              "      <td>0.270000</td>\n",
              "      <td>0.790000</td>\n",
              "      <td>0.790000</td>\n",
              "      <td>0.000000</td>\n",
              "      <td>0.000000</td>\n",
              "      <td>-5.411536</td>\n",
              "      <td>0.384648</td>\n",
              "      <td>-480.827696</td>\n",
              "      <td>0.192857</td>\n",
              "    </tr>\n",
              "    <tr>\n",
              "      <th>25%</th>\n",
              "      <td>-1.000000</td>\n",
              "      <td>-1.000000</td>\n",
              "      <td>0.73000</td>\n",
              "      <td>0.670000</td>\n",
              "      <td>0.630000</td>\n",
              "      <td>1.200000</td>\n",
              "      <td>1.220000</td>\n",
              "      <td>2.294004</td>\n",
              "      <td>1.956808</td>\n",
              "      <td>-2.570036</td>\n",
              "      <td>0.680809</td>\n",
              "      <td>0.000000</td>\n",
              "      <td>0.450000</td>\n",
              "    </tr>\n",
              "    <tr>\n",
              "      <th>50%</th>\n",
              "      <td>0.000000</td>\n",
              "      <td>0.000000</td>\n",
              "      <td>0.98000</td>\n",
              "      <td>0.860000</td>\n",
              "      <td>0.760000</td>\n",
              "      <td>1.500000</td>\n",
              "      <td>1.600000</td>\n",
              "      <td>2.422517</td>\n",
              "      <td>2.075849</td>\n",
              "      <td>-2.084214</td>\n",
              "      <td>0.776944</td>\n",
              "      <td>0.000000</td>\n",
              "      <td>0.542857</td>\n",
              "    </tr>\n",
              "    <tr>\n",
              "      <th>75%</th>\n",
              "      <td>2.000000</td>\n",
              "      <td>3.000000</td>\n",
              "      <td>1.24000</td>\n",
              "      <td>0.960000</td>\n",
              "      <td>0.940000</td>\n",
              "      <td>1.910000</td>\n",
              "      <td>1.960000</td>\n",
              "      <td>2.582926</td>\n",
              "      <td>2.284156</td>\n",
              "      <td>-1.734643</td>\n",
              "      <td>0.873123</td>\n",
              "      <td>3.892903</td>\n",
              "      <td>0.671429</td>\n",
              "    </tr>\n",
              "    <tr>\n",
              "      <th>max</th>\n",
              "      <td>5.000000</td>\n",
              "      <td>5.000000</td>\n",
              "      <td>1.88000</td>\n",
              "      <td>1.670000</td>\n",
              "      <td>1.670000</td>\n",
              "      <td>2.540000</td>\n",
              "      <td>2.540000</td>\n",
              "      <td>3.300176</td>\n",
              "      <td>3.009747</td>\n",
              "      <td>-0.601714</td>\n",
              "      <td>1.321062</td>\n",
              "      <td>305.871348</td>\n",
              "      <td>1.192857</td>\n",
              "    </tr>\n",
              "  </tbody>\n",
              "</table>\n",
              "</div>\n",
              "      <button class=\"colab-df-convert\" onclick=\"convertToInteractive('df-43dbecbc-5b81-4c69-9281-b6de6d0a254d')\"\n",
              "              title=\"Convert this dataframe to an interactive table.\"\n",
              "              style=\"display:none;\">\n",
              "        \n",
              "  <svg xmlns=\"http://www.w3.org/2000/svg\" height=\"24px\"viewBox=\"0 0 24 24\"\n",
              "       width=\"24px\">\n",
              "    <path d=\"M0 0h24v24H0V0z\" fill=\"none\"/>\n",
              "    <path d=\"M18.56 5.44l.94 2.06.94-2.06 2.06-.94-2.06-.94-.94-2.06-.94 2.06-2.06.94zm-11 1L8.5 8.5l.94-2.06 2.06-.94-2.06-.94L8.5 2.5l-.94 2.06-2.06.94zm10 10l.94 2.06.94-2.06 2.06-.94-2.06-.94-.94-2.06-.94 2.06-2.06.94z\"/><path d=\"M17.41 7.96l-1.37-1.37c-.4-.4-.92-.59-1.43-.59-.52 0-1.04.2-1.43.59L10.3 9.45l-7.72 7.72c-.78.78-.78 2.05 0 2.83L4 21.41c.39.39.9.59 1.41.59.51 0 1.02-.2 1.41-.59l7.78-7.78 2.81-2.81c.8-.78.8-2.07 0-2.86zM5.41 20L4 18.59l7.72-7.72 1.47 1.35L5.41 20z\"/>\n",
              "  </svg>\n",
              "      </button>\n",
              "      \n",
              "  <style>\n",
              "    .colab-df-container {\n",
              "      display:flex;\n",
              "      flex-wrap:wrap;\n",
              "      gap: 12px;\n",
              "    }\n",
              "\n",
              "    .colab-df-convert {\n",
              "      background-color: #E8F0FE;\n",
              "      border: none;\n",
              "      border-radius: 50%;\n",
              "      cursor: pointer;\n",
              "      display: none;\n",
              "      fill: #1967D2;\n",
              "      height: 32px;\n",
              "      padding: 0 0 0 0;\n",
              "      width: 32px;\n",
              "    }\n",
              "\n",
              "    .colab-df-convert:hover {\n",
              "      background-color: #E2EBFA;\n",
              "      box-shadow: 0px 1px 2px rgba(60, 64, 67, 0.3), 0px 1px 3px 1px rgba(60, 64, 67, 0.15);\n",
              "      fill: #174EA6;\n",
              "    }\n",
              "\n",
              "    [theme=dark] .colab-df-convert {\n",
              "      background-color: #3B4455;\n",
              "      fill: #D2E3FC;\n",
              "    }\n",
              "\n",
              "    [theme=dark] .colab-df-convert:hover {\n",
              "      background-color: #434B5C;\n",
              "      box-shadow: 0px 1px 3px 1px rgba(0, 0, 0, 0.15);\n",
              "      filter: drop-shadow(0px 1px 2px rgba(0, 0, 0, 0.3));\n",
              "      fill: #FFFFFF;\n",
              "    }\n",
              "  </style>\n",
              "\n",
              "      <script>\n",
              "        const buttonEl =\n",
              "          document.querySelector('#df-43dbecbc-5b81-4c69-9281-b6de6d0a254d button.colab-df-convert');\n",
              "        buttonEl.style.display =\n",
              "          google.colab.kernel.accessAllowed ? 'block' : 'none';\n",
              "\n",
              "        async function convertToInteractive(key) {\n",
              "          const element = document.querySelector('#df-43dbecbc-5b81-4c69-9281-b6de6d0a254d');\n",
              "          const dataTable =\n",
              "            await google.colab.kernel.invokeFunction('convertToInteractive',\n",
              "                                                     [key], {});\n",
              "          if (!dataTable) return;\n",
              "\n",
              "          const docLinkHtml = 'Like what you see? Visit the ' +\n",
              "            '<a target=\"_blank\" href=https://colab.research.google.com/notebooks/data_table.ipynb>data table notebook</a>'\n",
              "            + ' to learn more about interactive tables.';\n",
              "          element.innerHTML = '';\n",
              "          dataTable['output_type'] = 'display_data';\n",
              "          await google.colab.output.renderOutput(dataTable, element);\n",
              "          const docLink = document.createElement('div');\n",
              "          docLink.innerHTML = docLinkHtml;\n",
              "          element.appendChild(docLink);\n",
              "        }\n",
              "      </script>\n",
              "    </div>\n",
              "  </div>\n",
              "  "
            ]
          },
          "metadata": {},
          "execution_count": 14
        }
      ]
    },
    {
      "cell_type": "code",
      "source": [
        "df.info()"
      ],
      "metadata": {
        "colab": {
          "base_uri": "https://localhost:8080/"
        },
        "id": "fpfEwqm026s7",
        "outputId": "15dd2d7a-3b03-452a-ba2e-c1235c03abe4"
      },
      "execution_count": 15,
      "outputs": [
        {
          "output_type": "stream",
          "name": "stdout",
          "text": [
            "<class 'pandas.core.frame.DataFrame'>\n",
            "RangeIndex: 4165 entries, 0 to 4164\n",
            "Data columns (total 14 columns):\n",
            " #   Column             Non-Null Count  Dtype  \n",
            "---  ------             --------------  -----  \n",
            " 0   v(A)               4165 non-null   int64  \n",
            " 1   v(B)               4165 non-null   int64  \n",
            " 2   r(AXII)(Å)         4165 non-null   float64\n",
            " 3   r(AVI)(Å)          4165 non-null   float64\n",
            " 4   r(BVI)(Å)          4165 non-null   float64\n",
            " 5   EN(A)              4165 non-null   float64\n",
            " 6   EN(B)              4165 non-null   float64\n",
            " 7   l(A-O)(Å)          4165 non-null   float64\n",
            " 8   l(B-O)(Å)          4165 non-null   float64\n",
            " 9   ΔENR               4165 non-null   float64\n",
            " 10  tG                 4165 non-null   float64\n",
            " 11  τ                  4165 non-null   float64\n",
            " 12  μ                  4165 non-null   float64\n",
            " 13  Lowest distortion  4165 non-null   object \n",
            "dtypes: float64(11), int64(2), object(1)\n",
            "memory usage: 455.7+ KB\n"
          ]
        }
      ]
    },
    {
      "cell_type": "markdown",
      "source": [
        "Separating Input Features and Output Features"
      ],
      "metadata": {
        "id": "GDn2CtjY3m_N"
      }
    },
    {
      "cell_type": "code",
      "source": [
        "# Input/independent variables \n",
        "X = df.drop('Lowest distortion', axis = 1) # here we are dropping the Target feature as this is the target and 'X' is input features, the changes are not  \n",
        "# made inplace as we have not used 'inplace = True'  \n",
        "\n",
        "y = df['Lowest distortion'] # Output/Dependent variable"
      ],
      "metadata": {
        "id": "Flu-T1Qp28jJ"
      },
      "execution_count": 16,
      "outputs": []
    },
    {
      "cell_type": "code",
      "source": [
        "X.info()"
      ],
      "metadata": {
        "colab": {
          "base_uri": "https://localhost:8080/"
        },
        "id": "clK0u_Vf3ASx",
        "outputId": "c9ddee29-bf52-4314-c15e-9aaf36262d9e"
      },
      "execution_count": 17,
      "outputs": [
        {
          "output_type": "stream",
          "name": "stdout",
          "text": [
            "<class 'pandas.core.frame.DataFrame'>\n",
            "RangeIndex: 4165 entries, 0 to 4164\n",
            "Data columns (total 13 columns):\n",
            " #   Column      Non-Null Count  Dtype  \n",
            "---  ------      --------------  -----  \n",
            " 0   v(A)        4165 non-null   int64  \n",
            " 1   v(B)        4165 non-null   int64  \n",
            " 2   r(AXII)(Å)  4165 non-null   float64\n",
            " 3   r(AVI)(Å)   4165 non-null   float64\n",
            " 4   r(BVI)(Å)   4165 non-null   float64\n",
            " 5   EN(A)       4165 non-null   float64\n",
            " 6   EN(B)       4165 non-null   float64\n",
            " 7   l(A-O)(Å)   4165 non-null   float64\n",
            " 8   l(B-O)(Å)   4165 non-null   float64\n",
            " 9   ΔENR        4165 non-null   float64\n",
            " 10  tG          4165 non-null   float64\n",
            " 11  τ           4165 non-null   float64\n",
            " 12  μ           4165 non-null   float64\n",
            "dtypes: float64(11), int64(2)\n",
            "memory usage: 423.1 KB\n"
          ]
        }
      ]
    },
    {
      "cell_type": "markdown",
      "source": [
        "Splitting the data into Train and Test Set"
      ],
      "metadata": {
        "id": "eBjDIeUY3sgy"
      }
    },
    {
      "cell_type": "code",
      "source": [
        "X_train, X_test, y_train, y_test = train_test_split(X, y, test_size=0.3) "
      ],
      "metadata": {
        "id": "BNSCsjMO3Czw"
      },
      "execution_count": 18,
      "outputs": []
    },
    {
      "cell_type": "code",
      "source": [
        "X_train.shape"
      ],
      "metadata": {
        "colab": {
          "base_uri": "https://localhost:8080/"
        },
        "id": "x2mJt2X03Fio",
        "outputId": "0aa6d267-bd66-4ae9-e5b9-191ce08d1836"
      },
      "execution_count": 19,
      "outputs": [
        {
          "output_type": "execute_result",
          "data": {
            "text/plain": [
              "(2915, 13)"
            ]
          },
          "metadata": {},
          "execution_count": 19
        }
      ]
    },
    {
      "cell_type": "code",
      "source": [
        "scaler = StandardScaler().fit(X_train) \n",
        "X_train = scaler.transform(X_train) \n",
        "X_test = scaler.transform(X_test)"
      ],
      "metadata": {
        "id": "JxbFz0jc3GmJ"
      },
      "execution_count": 20,
      "outputs": []
    },
    {
      "cell_type": "code",
      "source": [
        "X_train"
      ],
      "metadata": {
        "colab": {
          "base_uri": "https://localhost:8080/"
        },
        "id": "vw193zBO3IY9",
        "outputId": "5ca687be-79f5-4ca2-d3d8-fc98bfcd8c44"
      },
      "execution_count": 21,
      "outputs": [
        {
          "output_type": "execute_result",
          "data": {
            "text/plain": [
              "array([[-0.54318961, -0.65173832, -0.31216244, ..., -0.98534703,\n",
              "        -0.05004402,  1.35207782],\n",
              "       [ 1.23991592,  0.74245238, -0.07906516, ...,  0.37858862,\n",
              "         0.12749125, -0.78459508],\n",
              "       [-1.13755812, -1.11646855,  0.12489496, ..., -0.79572508,\n",
              "        -0.05004402,  1.60847856],\n",
              "       ...,\n",
              "       [ 1.23991592,  0.74245238,  0.15403212, ...,  0.58202856,\n",
              "         0.08851687, -0.78459508],\n",
              "       [ 1.23991592,  0.74245238,  0.21230644, ...,  0.60182137,\n",
              "         0.085671  , -0.74186163],\n",
              "       [ 1.83428444,  0.27772215, -0.51612256, ..., -0.11297561,\n",
              "         0.34622412, -0.61366126]])"
            ]
          },
          "metadata": {},
          "execution_count": 21
        }
      ]
    },
    {
      "cell_type": "markdown",
      "source": [
        "Train the model"
      ],
      "metadata": {
        "id": "xS8d5NoL3uzS"
      }
    },
    {
      "cell_type": "code",
      "source": [
        "from sklearn.linear_model import LogisticRegression"
      ],
      "metadata": {
        "id": "1CemREXk3KdV"
      },
      "execution_count": 22,
      "outputs": []
    },
    {
      "cell_type": "code",
      "source": [
        "model = LogisticRegression()"
      ],
      "metadata": {
        "id": "xj7B8nmp3LYr"
      },
      "execution_count": 23,
      "outputs": []
    },
    {
      "cell_type": "code",
      "source": [
        "model.fit(X_train,y_train)"
      ],
      "metadata": {
        "colab": {
          "base_uri": "https://localhost:8080/"
        },
        "id": "X0eKy62h3MMN",
        "outputId": "c214a27d-1a6a-42fc-9550-74ce43e85f13"
      },
      "execution_count": 24,
      "outputs": [
        {
          "output_type": "execute_result",
          "data": {
            "text/plain": [
              "LogisticRegression()"
            ]
          },
          "metadata": {},
          "execution_count": 24
        }
      ]
    },
    {
      "cell_type": "code",
      "source": [
        "print(X_train.shape,y_train.shape)"
      ],
      "metadata": {
        "colab": {
          "base_uri": "https://localhost:8080/"
        },
        "id": "bqCcK4pr3NSc",
        "outputId": "a41db89a-eaef-45d8-8ed5-809a4d13e4c7"
      },
      "execution_count": 25,
      "outputs": [
        {
          "output_type": "stream",
          "name": "stdout",
          "text": [
            "(2915, 13) (2915,)\n"
          ]
        }
      ]
    },
    {
      "cell_type": "markdown",
      "source": [
        "Validate The Model"
      ],
      "metadata": {
        "id": "QIpEAw9h3yWK"
      }
    },
    {
      "cell_type": "code",
      "source": [
        "pred = model.predict(X_test)"
      ],
      "metadata": {
        "id": "hv1JMaUs3OS1"
      },
      "execution_count": 26,
      "outputs": []
    },
    {
      "cell_type": "code",
      "source": [
        "from sklearn.metrics import accuracy_score"
      ],
      "metadata": {
        "id": "XXYUKzde3PvA"
      },
      "execution_count": 27,
      "outputs": []
    },
    {
      "cell_type": "markdown",
      "source": [
        "Checking the accuracy of the Validation dataset"
      ],
      "metadata": {
        "id": "PjG5Yoi632Qa"
      }
    },
    {
      "cell_type": "code",
      "source": [
        "print('Accuracy score',accuracy_score(pred,y_test))"
      ],
      "metadata": {
        "colab": {
          "base_uri": "https://localhost:8080/"
        },
        "id": "TGRv-fBV3QeU",
        "outputId": "e6e89a6f-ae03-497b-e2c1-6728fbe1ce9e"
      },
      "execution_count": 28,
      "outputs": [
        {
          "output_type": "stream",
          "name": "stdout",
          "text": [
            "Accuracy score 0.6432\n"
          ]
        }
      ]
    },
    {
      "cell_type": "markdown",
      "source": [
        "Load Test Set"
      ],
      "metadata": {
        "id": "g9aWsvwY34KK"
      }
    },
    {
      "cell_type": "code",
      "source": [
        "test_data = pd.read_csv(r'/content/test_datasets.csv')"
      ],
      "metadata": {
        "id": "bRrDwlum3RdZ"
      },
      "execution_count": 29,
      "outputs": []
    },
    {
      "cell_type": "code",
      "source": [
        "test_data.head()"
      ],
      "metadata": {
        "colab": {
          "base_uri": "https://localhost:8080/",
          "height": 206
        },
        "id": "2h-0z9WI3SjO",
        "outputId": "e388a246-d8e2-4306-afad-ce8168e29b24"
      },
      "execution_count": 30,
      "outputs": [
        {
          "output_type": "execute_result",
          "data": {
            "text/plain": [
              "   v(A)  v(B)  r(AXII)(Å)  r(AVI)(Å)  r(BVI)(Å)  EN(A)  EN(B)  l(A-O)(Å)  \\\n",
              "0     2     4        1.19       0.99       0.62   1.22   2.20   2.550861   \n",
              "1     2     4        0.90       0.74       0.61   1.65   1.54   2.375479   \n",
              "2     2     4        0.79       0.68       0.71   1.60   1.30   2.294004   \n",
              "3     3     3        1.08       0.90       0.86   1.22   1.27   2.566449   \n",
              "4    -1    -1        0.89       0.72       0.86   1.31   1.27   2.401381   \n",
              "\n",
              "   l(B-O)(Å)      ΔENR        tG          τ         μ  \n",
              "0   2.042505 -1.780286  0.906637   4.145754  0.442857  \n",
              "1   1.927849 -1.750107  0.809127   5.881989  0.435714  \n",
              "2   2.027412 -1.942643  0.733917  18.814711  0.507143  \n",
              "3   2.209115 -2.575429  0.775940   9.167449  0.614286  \n",
              "4   2.209115 -2.400536  0.716493   0.000000  0.614286  "
            ],
            "text/html": [
              "\n",
              "  <div id=\"df-20eded14-97b9-4612-9339-25848332ff7c\">\n",
              "    <div class=\"colab-df-container\">\n",
              "      <div>\n",
              "<style scoped>\n",
              "    .dataframe tbody tr th:only-of-type {\n",
              "        vertical-align: middle;\n",
              "    }\n",
              "\n",
              "    .dataframe tbody tr th {\n",
              "        vertical-align: top;\n",
              "    }\n",
              "\n",
              "    .dataframe thead th {\n",
              "        text-align: right;\n",
              "    }\n",
              "</style>\n",
              "<table border=\"1\" class=\"dataframe\">\n",
              "  <thead>\n",
              "    <tr style=\"text-align: right;\">\n",
              "      <th></th>\n",
              "      <th>v(A)</th>\n",
              "      <th>v(B)</th>\n",
              "      <th>r(AXII)(Å)</th>\n",
              "      <th>r(AVI)(Å)</th>\n",
              "      <th>r(BVI)(Å)</th>\n",
              "      <th>EN(A)</th>\n",
              "      <th>EN(B)</th>\n",
              "      <th>l(A-O)(Å)</th>\n",
              "      <th>l(B-O)(Å)</th>\n",
              "      <th>ΔENR</th>\n",
              "      <th>tG</th>\n",
              "      <th>τ</th>\n",
              "      <th>μ</th>\n",
              "    </tr>\n",
              "  </thead>\n",
              "  <tbody>\n",
              "    <tr>\n",
              "      <th>0</th>\n",
              "      <td>2</td>\n",
              "      <td>4</td>\n",
              "      <td>1.19</td>\n",
              "      <td>0.99</td>\n",
              "      <td>0.62</td>\n",
              "      <td>1.22</td>\n",
              "      <td>2.20</td>\n",
              "      <td>2.550861</td>\n",
              "      <td>2.042505</td>\n",
              "      <td>-1.780286</td>\n",
              "      <td>0.906637</td>\n",
              "      <td>4.145754</td>\n",
              "      <td>0.442857</td>\n",
              "    </tr>\n",
              "    <tr>\n",
              "      <th>1</th>\n",
              "      <td>2</td>\n",
              "      <td>4</td>\n",
              "      <td>0.90</td>\n",
              "      <td>0.74</td>\n",
              "      <td>0.61</td>\n",
              "      <td>1.65</td>\n",
              "      <td>1.54</td>\n",
              "      <td>2.375479</td>\n",
              "      <td>1.927849</td>\n",
              "      <td>-1.750107</td>\n",
              "      <td>0.809127</td>\n",
              "      <td>5.881989</td>\n",
              "      <td>0.435714</td>\n",
              "    </tr>\n",
              "    <tr>\n",
              "      <th>2</th>\n",
              "      <td>2</td>\n",
              "      <td>4</td>\n",
              "      <td>0.79</td>\n",
              "      <td>0.68</td>\n",
              "      <td>0.71</td>\n",
              "      <td>1.60</td>\n",
              "      <td>1.30</td>\n",
              "      <td>2.294004</td>\n",
              "      <td>2.027412</td>\n",
              "      <td>-1.942643</td>\n",
              "      <td>0.733917</td>\n",
              "      <td>18.814711</td>\n",
              "      <td>0.507143</td>\n",
              "    </tr>\n",
              "    <tr>\n",
              "      <th>3</th>\n",
              "      <td>3</td>\n",
              "      <td>3</td>\n",
              "      <td>1.08</td>\n",
              "      <td>0.90</td>\n",
              "      <td>0.86</td>\n",
              "      <td>1.22</td>\n",
              "      <td>1.27</td>\n",
              "      <td>2.566449</td>\n",
              "      <td>2.209115</td>\n",
              "      <td>-2.575429</td>\n",
              "      <td>0.775940</td>\n",
              "      <td>9.167449</td>\n",
              "      <td>0.614286</td>\n",
              "    </tr>\n",
              "    <tr>\n",
              "      <th>4</th>\n",
              "      <td>-1</td>\n",
              "      <td>-1</td>\n",
              "      <td>0.89</td>\n",
              "      <td>0.72</td>\n",
              "      <td>0.86</td>\n",
              "      <td>1.31</td>\n",
              "      <td>1.27</td>\n",
              "      <td>2.401381</td>\n",
              "      <td>2.209115</td>\n",
              "      <td>-2.400536</td>\n",
              "      <td>0.716493</td>\n",
              "      <td>0.000000</td>\n",
              "      <td>0.614286</td>\n",
              "    </tr>\n",
              "  </tbody>\n",
              "</table>\n",
              "</div>\n",
              "      <button class=\"colab-df-convert\" onclick=\"convertToInteractive('df-20eded14-97b9-4612-9339-25848332ff7c')\"\n",
              "              title=\"Convert this dataframe to an interactive table.\"\n",
              "              style=\"display:none;\">\n",
              "        \n",
              "  <svg xmlns=\"http://www.w3.org/2000/svg\" height=\"24px\"viewBox=\"0 0 24 24\"\n",
              "       width=\"24px\">\n",
              "    <path d=\"M0 0h24v24H0V0z\" fill=\"none\"/>\n",
              "    <path d=\"M18.56 5.44l.94 2.06.94-2.06 2.06-.94-2.06-.94-.94-2.06-.94 2.06-2.06.94zm-11 1L8.5 8.5l.94-2.06 2.06-.94-2.06-.94L8.5 2.5l-.94 2.06-2.06.94zm10 10l.94 2.06.94-2.06 2.06-.94-2.06-.94-.94-2.06-.94 2.06-2.06.94z\"/><path d=\"M17.41 7.96l-1.37-1.37c-.4-.4-.92-.59-1.43-.59-.52 0-1.04.2-1.43.59L10.3 9.45l-7.72 7.72c-.78.78-.78 2.05 0 2.83L4 21.41c.39.39.9.59 1.41.59.51 0 1.02-.2 1.41-.59l7.78-7.78 2.81-2.81c.8-.78.8-2.07 0-2.86zM5.41 20L4 18.59l7.72-7.72 1.47 1.35L5.41 20z\"/>\n",
              "  </svg>\n",
              "      </button>\n",
              "      \n",
              "  <style>\n",
              "    .colab-df-container {\n",
              "      display:flex;\n",
              "      flex-wrap:wrap;\n",
              "      gap: 12px;\n",
              "    }\n",
              "\n",
              "    .colab-df-convert {\n",
              "      background-color: #E8F0FE;\n",
              "      border: none;\n",
              "      border-radius: 50%;\n",
              "      cursor: pointer;\n",
              "      display: none;\n",
              "      fill: #1967D2;\n",
              "      height: 32px;\n",
              "      padding: 0 0 0 0;\n",
              "      width: 32px;\n",
              "    }\n",
              "\n",
              "    .colab-df-convert:hover {\n",
              "      background-color: #E2EBFA;\n",
              "      box-shadow: 0px 1px 2px rgba(60, 64, 67, 0.3), 0px 1px 3px 1px rgba(60, 64, 67, 0.15);\n",
              "      fill: #174EA6;\n",
              "    }\n",
              "\n",
              "    [theme=dark] .colab-df-convert {\n",
              "      background-color: #3B4455;\n",
              "      fill: #D2E3FC;\n",
              "    }\n",
              "\n",
              "    [theme=dark] .colab-df-convert:hover {\n",
              "      background-color: #434B5C;\n",
              "      box-shadow: 0px 1px 3px 1px rgba(0, 0, 0, 0.15);\n",
              "      filter: drop-shadow(0px 1px 2px rgba(0, 0, 0, 0.3));\n",
              "      fill: #FFFFFF;\n",
              "    }\n",
              "  </style>\n",
              "\n",
              "      <script>\n",
              "        const buttonEl =\n",
              "          document.querySelector('#df-20eded14-97b9-4612-9339-25848332ff7c button.colab-df-convert');\n",
              "        buttonEl.style.display =\n",
              "          google.colab.kernel.accessAllowed ? 'block' : 'none';\n",
              "\n",
              "        async function convertToInteractive(key) {\n",
              "          const element = document.querySelector('#df-20eded14-97b9-4612-9339-25848332ff7c');\n",
              "          const dataTable =\n",
              "            await google.colab.kernel.invokeFunction('convertToInteractive',\n",
              "                                                     [key], {});\n",
              "          if (!dataTable) return;\n",
              "\n",
              "          const docLinkHtml = 'Like what you see? Visit the ' +\n",
              "            '<a target=\"_blank\" href=https://colab.research.google.com/notebooks/data_table.ipynb>data table notebook</a>'\n",
              "            + ' to learn more about interactive tables.';\n",
              "          element.innerHTML = '';\n",
              "          dataTable['output_type'] = 'display_data';\n",
              "          await google.colab.output.renderOutput(dataTable, element);\n",
              "          const docLink = document.createElement('div');\n",
              "          docLink.innerHTML = docLinkHtml;\n",
              "          element.appendChild(docLink);\n",
              "        }\n",
              "      </script>\n",
              "    </div>\n",
              "  </div>\n",
              "  "
            ]
          },
          "metadata": {},
          "execution_count": 30
        }
      ]
    },
    {
      "cell_type": "markdown",
      "source": [
        "Make Prediction on Test Dataset\n",
        "\n"
      ],
      "metadata": {
        "id": "5yCxmzwf37zM"
      }
    },
    {
      "cell_type": "code",
      "source": [
        "target = model.predict(test_data)"
      ],
      "metadata": {
        "id": "vAnvCBsI3Tel"
      },
      "execution_count": 31,
      "outputs": []
    },
    {
      "cell_type": "markdown",
      "source": [
        "Save files"
      ],
      "metadata": {
        "id": "a2eCNdY639aF"
      }
    },
    {
      "cell_type": "code",
      "source": [
        "# To create Dataframe of predicted value with particular respective index #target = pd.read_csv(r'/content/test_ans.csv') \n",
        "res = pd.DataFrame(target) # target are nothing but the final predictions of your model on input features of your new unseen test data \n",
        "res.columns = [\"Lowest distortion\"]  \n",
        "\n",
        "# To download the csv file locally \n",
        "from google.colab import files \n",
        "res.to_csv('submission.csv', index = False)  \n",
        "files.download('submission.csv')"
      ],
      "metadata": {
        "colab": {
          "base_uri": "https://localhost:8080/",
          "height": 17
        },
        "id": "oWWafJmj3We5",
        "outputId": "c1e2c549-6a9f-4655-b17b-98300ef01c3d"
      },
      "execution_count": 34,
      "outputs": [
        {
          "output_type": "display_data",
          "data": {
            "text/plain": [
              "<IPython.core.display.Javascript object>"
            ],
            "application/javascript": [
              "\n",
              "    async function download(id, filename, size) {\n",
              "      if (!google.colab.kernel.accessAllowed) {\n",
              "        return;\n",
              "      }\n",
              "      const div = document.createElement('div');\n",
              "      const label = document.createElement('label');\n",
              "      label.textContent = `Downloading \"${filename}\": `;\n",
              "      div.appendChild(label);\n",
              "      const progress = document.createElement('progress');\n",
              "      progress.max = size;\n",
              "      div.appendChild(progress);\n",
              "      document.body.appendChild(div);\n",
              "\n",
              "      const buffers = [];\n",
              "      let downloaded = 0;\n",
              "\n",
              "      const channel = await google.colab.kernel.comms.open(id);\n",
              "      // Send a message to notify the kernel that we're ready.\n",
              "      channel.send({})\n",
              "\n",
              "      for await (const message of channel.messages) {\n",
              "        // Send a message to notify the kernel that we're ready.\n",
              "        channel.send({})\n",
              "        if (message.buffers) {\n",
              "          for (const buffer of message.buffers) {\n",
              "            buffers.push(buffer);\n",
              "            downloaded += buffer.byteLength;\n",
              "            progress.value = downloaded;\n",
              "          }\n",
              "        }\n",
              "      }\n",
              "      const blob = new Blob(buffers, {type: 'application/binary'});\n",
              "      const a = document.createElement('a');\n",
              "      a.href = window.URL.createObjectURL(blob);\n",
              "      a.download = filename;\n",
              "      div.appendChild(a);\n",
              "      a.click();\n",
              "      div.remove();\n",
              "    }\n",
              "  "
            ]
          },
          "metadata": {}
        },
        {
          "output_type": "display_data",
          "data": {
            "text/plain": [
              "<IPython.core.display.Javascript object>"
            ],
            "application/javascript": [
              "download(\"download_fc824c7b-a4a1-42a9-9906-9fd5b42bb6af\", \"submission.csv\", 10951)"
            ]
          },
          "metadata": {}
        }
      ]
    }
  ]
}